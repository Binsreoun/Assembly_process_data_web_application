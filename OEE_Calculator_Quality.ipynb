{
 "cells": [
  {
   "cell_type": "code",
   "execution_count": 3,
   "metadata": {},
   "outputs": [],
   "source": [
    "from datetime import datetime, timedelta\n",
    "import pymysql"
   ]
  },
  {
   "cell_type": "code",
   "execution_count": 50,
   "metadata": {},
   "outputs": [],
   "source": [
    "def get_item_count_for_quality():\n",
    "    conn = pymysql.connect(host='127.0.0.1', user='root', password='carry789', db='projectdata', charset='utf8')\n",
    "\n",
    "    sql = '''\n",
    "    \n",
    "        SELECT product_test,\n",
    "        count(product_quality.product_test)\n",
    "        FROM product_history INNER JOIN product_quality\n",
    "        ON  product_history.product_key = product_quality.product_key\n",
    "        WHERE product_code = 'EGRC' AND product_timestamp BETWEEN '%s' AND '%s'\n",
    "        group by product_test;\n",
    "    \n",
    "    ''' %(datetime.now() - timedelta(days = 1), datetime.now())\n",
    "\n",
    "    cursor = conn.cursor()\n",
    "    cursor.execute(sql)\n",
    "    row = cursor.fetchall()\n",
    "\n",
    "    data_list = []\n",
    "\n",
    "    for obj in row:\n",
    "        data_dic = {\n",
    "            'test_result': obj[0],\n",
    "            'item_count': obj[1]\n",
    "        }\n",
    "        data_list.append(data_dic)\n",
    "\n",
    "    conn.close()\n",
    "\n",
    "    return data_list"
   ]
  },
  {
   "cell_type": "code",
   "execution_count": 51,
   "metadata": {},
   "outputs": [
    {
     "name": "stdout",
     "output_type": "stream",
     "text": [
      "{'test_result': 'OK', 'item_count': 45} {'test_result': 'NOK', 'item_count': 10}\n"
     ]
    }
   ],
   "source": [
    "data = get_item_count_for_quality()\n",
    "\n",
    "print(data[0], data[1])"
   ]
  },
  {
   "cell_type": "code",
   "execution_count": 55,
   "metadata": {},
   "outputs": [
    {
     "name": "stdout",
     "output_type": "stream",
     "text": [
      "45\n",
      "10\n"
     ]
    }
   ],
   "source": [
    "OK_count = data[0]['item_count']\n",
    "NOK_count = data[1]['item_count']\n",
    "\n",
    "print(OK_count)\n",
    "print(NOK_count)"
   ]
  },
  {
   "cell_type": "code",
   "execution_count": 53,
   "metadata": {},
   "outputs": [],
   "source": [
    "quality = OK_count / (OK_count + NOK_count) * 100"
   ]
  },
  {
   "cell_type": "code",
   "execution_count": 54,
   "metadata": {},
   "outputs": [
    {
     "data": {
      "text/plain": [
       "81.81818181818183"
      ]
     },
     "execution_count": 54,
     "metadata": {},
     "output_type": "execute_result"
    }
   ],
   "source": [
    "quality"
   ]
  },
  {
   "cell_type": "code",
   "execution_count": null,
   "metadata": {},
   "outputs": [],
   "source": []
  },
  {
   "cell_type": "code",
   "execution_count": null,
   "metadata": {},
   "outputs": [],
   "source": []
  }
 ],
 "metadata": {
  "kernelspec": {
   "display_name": "Python 3",
   "language": "python",
   "name": "python3"
  },
  "language_info": {
   "codemirror_mode": {
    "name": "ipython",
    "version": 3
   },
   "file_extension": ".py",
   "mimetype": "text/x-python",
   "name": "python",
   "nbconvert_exporter": "python",
   "pygments_lexer": "ipython3",
   "version": "3.6.8"
  }
 },
 "nbformat": 4,
 "nbformat_minor": 2
}
