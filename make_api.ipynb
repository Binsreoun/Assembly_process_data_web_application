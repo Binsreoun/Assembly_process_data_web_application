{
 "cells": [
  {
   "cell_type": "markdown",
   "metadata": {},
   "source": [
    "## Client data를 Server DB에 저장하기"
   ]
  },
  {
   "cell_type": "code",
   "execution_count": null,
   "metadata": {},
   "outputs": [],
   "source": [
    "# common.js (static 디렉토리에 common.js 추가)\n",
    "# HTML head에서 js 코드 받아오기\n",
    "\n",
    "<script src=\"https://ajax.googleapis.com/ajax/libs/jquery/3.4.1/jquery.min.js\"></script>\n",
    "<script src=\"/static/common.js\"></script>"
   ]
  },
  {
   "cell_type": "code",
   "execution_count": null,
   "metadata": {},
   "outputs": [],
   "source": [
    "# index.html / client로부터 data input을 받는 html 작성\n",
    "\n",
    "<body>\n",
    "  <div id=\"postingBox\">\n",
    "    <select name='categories' id=\"categoryCode\">\n",
    "      <option value='1'>Category 1</option>\n",
    "      <option value='2'>Category 2</option>\n",
    "      <option value='3'>Category 3</option>\n",
    "    </select>\n",
    "    <textarea id=\"postingBody\"></textarea>\n",
    "    <button onclick=\"post_article()\">Post</button>\n",
    "  <div>\n",
    "</body>"
   ]
  },
  {
   "cell_type": "code",
   "execution_count": null,
   "metadata": {},
   "outputs": [],
   "source": [
    "# client data를 server의 api로 넘겨주는 ajax 함수 작성\n",
    "\n",
    "function post_article() {\n",
    "  let post_body = $('#postingBody').val();\n",
    "  let category_code = $('#categoryCode').val();\n",
    "\n",
    "  $.ajax({\n",
    "    type: \"POST\",\n",
    "    url: \"/api/postarticle\",\n",
    "    data: {\n",
    "      'category_code_give': category_code,\n",
    "      'post_body_give': post_body\n",
    "    },\n",
    "    success: function (response) {\n",
    "      if (response['result'] == 'success') {\n",
    "        window.location.reload()\n",
    "      }\n",
    "    }\n",
    "  })\n",
    "}"
   ]
  },
  {
   "cell_type": "code",
   "execution_count": null,
   "metadata": {},
   "outputs": [],
   "source": [
    "# api를 통해 받은 client data를 server의 DB에 저장\n",
    "\n",
    "@app.route('/api/postarticle', methods=['POST'])\n",
    "def post_article():\n",
    "    category_code_receive = request.form['category_code_give']\n",
    "    post_body_receive = request.form['post_body_give']\n",
    "    \n",
    "    article = {\n",
    "            'category_code': category_code_receive,\n",
    "            'post_body': post_body_receive\n",
    "    }\n",
    "    \n",
    "    db.articles.insert_one(article)\n",
    "    return jsonify({'result': 'success'})"
   ]
  },
  {
   "cell_type": "markdown",
   "metadata": {},
   "source": [
    "## Server Data를 Client로 불러오기"
   ]
  },
  {
   "cell_type": "code",
   "execution_count": null,
   "metadata": {},
   "outputs": [],
   "source": [
    "# DB의 모든 data를 찾아 json 형태로 client에 return\n",
    "\n",
    "@app.route('/api/showarticles', methods=['GET'])\n",
    "def show_articles():\n",
    "    articles = list(db.articles.find({},{'_id':0}))\n",
    "    return jsonify({'result':'success', 'articles': articles})"
   ]
  },
  {
   "cell_type": "code",
   "execution_count": null,
   "metadata": {},
   "outputs": [],
   "source": [
    "# return 받은 data를 html 형태로 만들어주는 JavaScript 함수 작성\n",
    "\n",
    "function make_article(category_code, article_body) {\n",
    "    let temp_html = '\n",
    "\t<article>\n",
    "\t  <a href='#'>${category_code}</a>\n",
    "\t  <h3>${post_body}</h3>\n",
    "\t</article>'\n",
    "    \n",
    "    return temp_html;\n",
    "}"
   ]
  },
  {
   "cell_type": "code",
   "execution_count": null,
   "metadata": {},
   "outputs": [],
   "source": [
    "# return 받은 data를 client에 보여주는 ajax 함수 작성\n",
    "\n",
    "function show_article() {\n",
    "    $('#articleBox').empty();\n",
    "\n",
    "    $.ajax({\n",
    "        type: \"GET\",\n",
    "        url: \"/api/top\",\n",
    "        data: {},\n",
    "        success: function (response) {\n",
    "          let articles = response['articles_list']\n",
    "          for (let i = 0; i < articles.length; i++) {\n",
    "            let article = articles[i];\n",
    "\n",
    "            let code = article['category_code'];\n",
    "            let body = article['article_body'];\n",
    "            \n",
    "            let append_one = make_article(code, body);\n",
    "            \n",
    "            $('#articleBox').append(append_one);\n",
    "        }\n",
    "    });\n",
    "}"
   ]
  },
  {
   "cell_type": "code",
   "execution_count": null,
   "metadata": {},
   "outputs": [],
   "source": [
    "# html 내에 data를 보여줄 영역 설정\n",
    "\n",
    "<body>\n",
    "    <div id=\"postingBox\">...\n",
    "\n",
    "    <div id=\"articleBox\"></div>\n",
    "</body>"
   ]
  },
  {
   "cell_type": "code",
   "execution_count": null,
   "metadata": {},
   "outputs": [],
   "source": [
    "# Server 로딩과 동시에 show_article()를 호출하는 script 작성\n",
    "\n",
    "<script>\n",
    "    $(document).ready(function () {\n",
    "        show_article();\n",
    "    });\n",
    "</script>"
   ]
  },
  {
   "cell_type": "code",
   "execution_count": null,
   "metadata": {},
   "outputs": [],
   "source": []
  }
 ],
 "metadata": {
  "kernelspec": {
   "display_name": "Python 3",
   "language": "python",
   "name": "python3"
  },
  "language_info": {
   "codemirror_mode": {
    "name": "ipython",
    "version": 3
   },
   "file_extension": ".py",
   "mimetype": "text/x-python",
   "name": "python",
   "nbconvert_exporter": "python",
   "pygments_lexer": "ipython3",
   "version": "3.6.8"
  }
 },
 "nbformat": 4,
 "nbformat_minor": 2
}
