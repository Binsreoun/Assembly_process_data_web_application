{
 "cells": [
  {
   "cell_type": "code",
   "execution_count": 5,
   "metadata": {},
   "outputs": [],
   "source": [
    "from datetime import datetime, timedelta\n",
    "import pymysql"
   ]
  },
  {
   "cell_type": "code",
   "execution_count": 28,
   "metadata": {},
   "outputs": [],
   "source": [
    "def get_time_for_availability():\n",
    "    conn = pymysql.connect(host='127.0.0.1', user='root', password='carry789', db='projectdata', charset='utf8')\n",
    "\n",
    "    sql = '''\n",
    "        select machine_code, process_time\n",
    "        from machine where end_time between '%s' AND '%s'\n",
    "    ''' %(datetime.now() - timedelta(days = 1), datetime.now())\n",
    "\n",
    "    cursor = conn.cursor()\n",
    "    cursor.execute(sql)\n",
    "    row = cursor.fetchall()\n",
    "\n",
    "    data_list = []\n",
    "\n",
    "    for obj in row:\n",
    "        data_dic = {\n",
    "            'machine_code': obj[0],\n",
    "            'process_time': obj[1]\n",
    "        }\n",
    "        data_list.append(data_dic)\n",
    "\n",
    "    conn.close()\n",
    "\n",
    "    return data_list"
   ]
  },
  {
   "cell_type": "code",
   "execution_count": 39,
   "metadata": {},
   "outputs": [],
   "source": [
    "data = get_time_for_availability()"
   ]
  },
  {
   "cell_type": "code",
   "execution_count": 40,
   "metadata": {},
   "outputs": [
    {
     "data": {
      "text/plain": [
       "('OP10', 9.28866)"
      ]
     },
     "execution_count": 40,
     "metadata": {},
     "output_type": "execute_result"
    }
   ],
   "source": [
    "data[0]['machine_code'], data[0]['process_time']"
   ]
  },
  {
   "cell_type": "code",
   "execution_count": 53,
   "metadata": {},
   "outputs": [],
   "source": [
    "op10_makespan = 0\n",
    "op20_makespan = 0\n",
    "op30_makespan = 0\n",
    "op40_makespan = 0\n",
    "op50_makespan = 0\n",
    "op60_makespan = 0\n",
    "\n",
    "op10_count = 0\n",
    "op20_count = 0\n",
    "op30_count = 0\n",
    "op40_count = 0\n",
    "op50_count = 0\n",
    "op60_count = 0\n",
    "\n",
    "for row in range(len(result)):\n",
    "\n",
    "    if data[row]['machine_code'] == 'OP10':\n",
    "        op10_makespan = op10_makespan + data[row]['process_time']\n",
    "        op10_count = op10_count + 1\n",
    "    \n",
    "    elif data[row]['machine_code'] == 'OP20':\n",
    "        op20_makespan = op20_makespan + data[row]['process_time']\n",
    "        op20_count = op20_count + 1\n",
    "        \n",
    "    elif data[row]['machine_code'] == 'OP30':\n",
    "        op30_makespan = op30_makespan + data[row]['process_time']\n",
    "        op30_count = op30_count + 1\n",
    "        \n",
    "    elif data[row]['machine_code'] == 'OP40':\n",
    "        op40_makespan = op40_makespan + data[row]['process_time']\n",
    "        op40_count = op40_count + 1\n",
    "        \n",
    "    elif data[row]['machine_code'] == 'OP50':\n",
    "        op50_makespan = op50_makespan + data[row]['process_time']\n",
    "        op50_count = op50_count + 1\n",
    "        \n",
    "    else:\n",
    "        op60_makespan = op60_makespan + data[row]['process_time']\n",
    "        op60_count = op60_count + 1"
   ]
  },
  {
   "cell_type": "code",
   "execution_count": 59,
   "metadata": {},
   "outputs": [
    {
     "name": "stdout",
     "output_type": "stream",
     "text": [
      "21.017909999999915\n",
      "16.696969999999965\n",
      "16.106919999999946\n",
      "17.265800000000127\n",
      "18.06994999999995\n",
      "66.36660000000006\n"
     ]
    }
   ],
   "source": [
    "op10_idle_time = op10_count * 10 - op10_makespan\n",
    "op20_idle_time = op20_count * 10 - op20_makespan\n",
    "op30_idle_time = op30_count * 10 - op30_makespan\n",
    "op40_idle_time = op40_count * 10 - op40_makespan\n",
    "op50_idle_time = op50_count * 10 - op50_makespan\n",
    "op60_idle_time = op60_count * 10 - op60_makespan\n",
    "\n",
    "print(op10_idle_time)\n",
    "print(op20_idle_time)\n",
    "print(op30_idle_time)\n",
    "print(op40_idle_time)\n",
    "print(op50_idle_time)\n",
    "print(op60_idle_time)"
   ]
  },
  {
   "cell_type": "code",
   "execution_count": 79,
   "metadata": {},
   "outputs": [],
   "source": [
    "op10_availability = (op10_makespan - op10_idle_time) / op10_makespan * 100\n",
    "op20_availability = (op20_makespan - op20_idle_time) / op20_makespan * 100\n",
    "op30_availability = (op30_makespan - op30_idle_time) / op30_makespan * 100\n",
    "op40_availability = (op40_makespan - op40_idle_time) / op40_makespan * 100\n",
    "op50_availability = (op50_makespan - op50_idle_time) / op50_makespan * 100\n",
    "op60_availability = (op60_makespan - op60_idle_time) / op60_makespan * 100\n",
    "\n",
    "total_availability = (op10_availability + op20_availability + op30_availability \n",
    "                      + op40_availability + op50_availability + op60_availability) / 6"
   ]
  },
  {
   "cell_type": "code",
   "execution_count": 80,
   "metadata": {},
   "outputs": [
    {
     "name": "stdout",
     "output_type": "stream",
     "text": [
      "96.3698514404824\n",
      "97.08758385595834\n",
      "97.14362162415614\n",
      "96.87629243857172\n",
      "96.66563055508733\n",
      "87.56325972099947\n",
      "95.28437327254257\n"
     ]
    }
   ],
   "source": [
    "print(op10_availability)\n",
    "print(op20_availability)\n",
    "print(op30_availability)\n",
    "print(op40_availability)\n",
    "print(op50_availability)\n",
    "print(op60_availability)\n",
    "\n",
    "print(total_availability)"
   ]
  },
  {
   "cell_type": "code",
   "execution_count": null,
   "metadata": {},
   "outputs": [],
   "source": []
  }
 ],
 "metadata": {
  "kernelspec": {
   "display_name": "Python 3",
   "language": "python",
   "name": "python3"
  },
  "language_info": {
   "codemirror_mode": {
    "name": "ipython",
    "version": 3
   },
   "file_extension": ".py",
   "mimetype": "text/x-python",
   "name": "python",
   "nbconvert_exporter": "python",
   "pygments_lexer": "ipython3",
   "version": "3.6.8"
  }
 },
 "nbformat": 4,
 "nbformat_minor": 2
}
