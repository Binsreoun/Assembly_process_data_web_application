{
 "cells": [
  {
   "cell_type": "code",
   "execution_count": 2,
   "metadata": {},
   "outputs": [],
   "source": [
    "import pymysql\n",
    " \n",
    "# database에 접근\n",
    "db= pymysql.connect(host='localhost',\n",
    "                     port=3306,\n",
    "                     user='root',\n",
    "                     passwd='your_password',\n",
    "                     db='your_dbname',\n",
    "                     charset='utf8')\n",
    " \n",
    "# database를 사용하기 위한 cursor를 세팅합니다.\n",
    "cursor= db.cursor()\n",
    " \n",
    "# SQL query 작성\n",
    "sql= \"\"\"CREATE TABLE test_table(\n",
    "         idx  INT UNSIGNED NOT NULL AUTO_INCREMENT PRIMARY KEY,\n",
    "         name VARCHAR(256) NOT NULL,\n",
    "         nick VARCHAR(256) NOT NULL\n",
    "         );\"\"\"\n",
    " \n",
    "# SQL query 실행\n",
    "cursor.execute(sql)\n",
    " \n",
    "# SQL query가 잘 실행됐는지 table을 살펴보도록 합니다.\n",
    "# 이미 4번 라인에서 use database를 수행한 것과 다름 없으니 show tables라는 명령을 수행해도 문제가 없습니다.\n",
    "cursor.execute(\"show tables\")\n",
    " \n",
    "# 데이터 변화 적용\n",
    "# CREATE 혹은 DROP, DELETE, UPDATE, INSERT와 같이 Database 내부의 데이터에 영향을 주는 함수의 경우 commit()을 해주어야 합니다.\n",
    "db.commit()\n",
    " \n",
    "# Database 닫기\n",
    "db.close()\n"
   ]
  },
  {
   "cell_type": "code",
   "execution_count": null,
   "metadata": {},
   "outputs": [],
   "source": [
    "import pymysql\n",
    "  \n",
    "db= pymysql.connect(host='localhost',\n",
    "                     port=3306,\n",
    "                     user='root',\n",
    "                     passwd='your_password',\n",
    "                     db='your_dbname',\n",
    "                     charset='utf8')\n",
    "try:\n",
    "    with db.cursor() as cursor:\n",
    "        sql= \"\"\"\n",
    "            CREATE TABLE test_table(\n",
    "                   idx  INT UNSIGNED NOT NULL AUTO_INCREMENT PRIMARY KEY,\n",
    "                   name VARCHAR(256) NOT NULL,\n",
    "                   nick VARCHAR(256) NOT NULL,\n",
    "            );\n",
    "        \"\"\"\n",
    "        cursor.execute(sql)\n",
    "        db.commit()\n",
    "finally:\n",
    "    db.close()\n"
   ]
  },
  {
   "cell_type": "code",
   "execution_count": null,
   "metadata": {},
   "outputs": [],
   "source": []
  },
  {
   "cell_type": "code",
   "execution_count": null,
   "metadata": {},
   "outputs": [],
   "source": []
  }
 ],
 "metadata": {
  "kernelspec": {
   "display_name": "Python 3",
   "language": "python",
   "name": "python3"
  },
  "language_info": {
   "codemirror_mode": {
    "name": "ipython",
    "version": 3
   },
   "file_extension": ".py",
   "mimetype": "text/x-python",
   "name": "python",
   "nbconvert_exporter": "python",
   "pygments_lexer": "ipython3",
   "version": "3.6.8"
  }
 },
 "nbformat": 4,
 "nbformat_minor": 2
}
