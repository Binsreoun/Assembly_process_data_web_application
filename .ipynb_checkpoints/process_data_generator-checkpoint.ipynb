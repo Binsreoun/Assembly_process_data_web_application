{
 "cells": [
  {
   "cell_type": "markdown",
   "metadata": {},
   "source": [
    "# 공정 데이터 생성"
   ]
  },
  {
   "cell_type": "code",
   "execution_count": 1,
   "metadata": {},
   "outputs": [],
   "source": [
    "import numpy as np"
   ]
  },
  {
   "cell_type": "code",
   "execution_count": 24,
   "metadata": {},
   "outputs": [],
   "source": [
    "stv = 0.0025\n",
    "amount = 100\n",
    "\n",
    "body_l = np.random.normal(200,stv, amount)\n",
    "body_w = np.random.normal(100,stv, amount)\n",
    "body_h = np.random.normal(50,stv, amount)\n",
    "\n",
    "wavyfin_l = np.random.normal(100,stv, amount)\n",
    "wavyfin_w = np.random.normal(50,stv, amount)\n",
    "wavyfin_h = np.random.normal(60,stv, amount)\n",
    "\n",
    "pipe1_l = np.random.normal(30,stv, amount)\n",
    "pipe1_w = np.random.normal(50,stv, amount)\n",
    "pipe1_h = np.random.normal(30,stv, amount)\n",
    "\n",
    "pipe2_l = np.random.normal(30,stv, amount)\n",
    "pipe2_w = np.random.normal(50,stv, amount)\n",
    "pipe2_h = np.random.normal(30,stv, amount)\n",
    "\n",
    "flange1_l = np.random.normal(30,stv, amount)\n",
    "flange1_w = np.random.normal(80,stv, amount)\n",
    "flange1_h = np.random.normal(40,stv, amount)\n",
    "\n",
    "flange2_l = np.random.normal(30,stv, amount)\n",
    "flange2_w = np.random.normal(80,stv, amount)\n",
    "flange2_h = np.random.normal(40,stv, amount)"
   ]
  },
  {
   "cell_type": "code",
   "execution_count": 25,
   "metadata": {},
   "outputs": [
    {
     "data": {
      "text/plain": [
       "array([200.00431, 200.00026, 199.99998, 199.99788, 199.99935, 200.0001 ,\n",
       "       200.00269, 200.00301, 200.00058, 199.99915, 200.00116, 200.00036,\n",
       "       199.99368, 199.99626, 200.00257, 200.00005, 199.99821, 199.99849,\n",
       "       199.99941, 199.99887, 200.00192, 199.99953, 200.00147, 200.0001 ,\n",
       "       199.99934, 200.00548, 199.99812, 199.99642, 200.00065, 200.00086,\n",
       "       199.99614, 200.00271, 200.00002, 200.0031 , 199.99817, 199.99939,\n",
       "       199.99911, 199.99841, 200.00182, 200.00092, 199.99882, 199.99551,\n",
       "       199.999  , 199.99986, 200.0005 , 199.9985 , 200.00176, 199.99972,\n",
       "       199.99951, 200.00118, 199.99536, 199.99536, 199.99929, 199.99829,\n",
       "       200.00342, 200.00037, 199.99715, 199.99887, 199.9983 , 200.00104,\n",
       "       199.99877, 199.99909, 199.99866, 199.99964, 199.99642, 200.00557,\n",
       "       199.99827, 199.99657, 200.00302, 200.00281, 199.99842, 200.00186,\n",
       "       199.99674, 200.00583, 200.00213, 200.00052, 200.00065, 200.00187,\n",
       "       199.99465, 199.9995 , 199.99442, 199.99849, 200.00373, 199.99913,\n",
       "       199.99912, 199.99606, 200.00481, 199.99713, 200.00461, 200.00128,\n",
       "       200.00044, 200.00073, 200.00044, 199.99502, 199.99565, 200.00195,\n",
       "       199.99604, 200.00377, 199.99877, 199.99894])"
      ]
     },
     "execution_count": 25,
     "metadata": {},
     "output_type": "execute_result"
    }
   ],
   "source": [
    "body_length.round(5)"
   ]
  },
  {
   "cell_type": "code",
   "execution_count": null,
   "metadata": {},
   "outputs": [],
   "source": []
  },
  {
   "cell_type": "code",
   "execution_count": null,
   "metadata": {},
   "outputs": [],
   "source": []
  },
  {
   "cell_type": "code",
   "execution_count": null,
   "metadata": {},
   "outputs": [],
   "source": []
  }
 ],
 "metadata": {
  "kernelspec": {
   "display_name": "Python 3",
   "language": "python",
   "name": "python3"
  },
  "language_info": {
   "codemirror_mode": {
    "name": "ipython",
    "version": 3
   },
   "file_extension": ".py",
   "mimetype": "text/x-python",
   "name": "python",
   "nbconvert_exporter": "python",
   "pygments_lexer": "ipython3",
   "version": "3.6.8"
  }
 },
 "nbformat": 4,
 "nbformat_minor": 2
}
