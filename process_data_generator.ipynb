{
 "cells": [
  {
   "cell_type": "markdown",
   "metadata": {},
   "source": [
    "# 공정 데이터 생성"
   ]
  },
  {
   "cell_type": "code",
   "execution_count": 7,
   "metadata": {},
   "outputs": [],
   "source": [
    "import numpy as np"
   ]
  },
  {
   "cell_type": "code",
   "execution_count": 10,
   "metadata": {},
   "outputs": [],
   "source": [
    "def parts():\n",
    "    std = 0.0025\n",
    "    amount = 100\n",
    "\n",
    "    body_l = np.random.normal(200,std, amount)\n",
    "    body_w = np.random.normal(100,std, amount)\n",
    "    body_h = np.random.normal(50,std, amount)\n",
    "\n",
    "    wavyfin_l = np.random.normal(100,std, amount)\n",
    "    wavyfin_w = np.random.normal(50,std, amount)\n",
    "    wavyfin_h = np.random.normal(60,std, amount)\n",
    "\n",
    "    pipe1_l = np.random.normal(30,std, amount)\n",
    "    pipe1_w = np.random.normal(50,std, amount)\n",
    "    pipe1_h = np.random.normal(30,std, amount)\n",
    "\n",
    "    pipe2_l = np.random.normal(30,std, amount)\n",
    "    pipe2_w = np.random.normal(50,std, amount)\n",
    "    pipe2_h = np.random.normal(30,std, amount)\n",
    "\n",
    "    flange1_l = np.random.normal(30,std, amount)\n",
    "    flange1_w = np.random.normal(80,std, amount)\n",
    "    flange1_h = np.random.normal(40,std, amount)\n",
    "\n",
    "    flange2_l = np.random.normal(30,std, amount)\n",
    "    flange2_w = np.random.normal(80,std, amount)\n",
    "    flange2_h = np.random.normal(40,std, amount)\n",
    "    \n",
    "    #return body_l, body_w, body_h, wavyfin_l, wavyfin_w, wavyfin_h, pipe1_l, pipe1_w, pipe1_h, pipe2_l, pipe2_w, pipe2_h, flange1_l, flange1_w, flange1_h, flange2_l, flange2_w, flange2_h\n"
   ]
  },
  {
   "cell_type": "code",
   "execution_count": 11,
   "metadata": {},
   "outputs": [],
   "source": [
    "parts()"
   ]
  },
  {
   "cell_type": "code",
   "execution_count": 30,
   "metadata": {},
   "outputs": [
    {
     "data": {
      "text/plain": [
       "array([50.00322436, 50.00048483, 49.99988965, 49.99944033, 50.00010422,\n",
       "       49.9960995 , 49.99890617, 50.00300278, 50.00439777, 50.0003787 ,\n",
       "       50.00261966, 50.00454585, 49.99939365, 50.00026693, 50.00125752,\n",
       "       49.99680079, 50.00204722, 49.9975465 , 50.0018862 , 49.99678074,\n",
       "       50.00263509, 50.00108214, 50.0041462 , 49.99637182, 49.9993406 ,\n",
       "       49.9979496 , 50.00184565, 49.99748399, 50.0013181 , 49.99654736,\n",
       "       50.00327587, 50.00032022, 50.00155091, 50.00251715, 50.00501315,\n",
       "       49.99985113, 49.99845058, 49.99871601, 50.00361618, 49.99502292,\n",
       "       50.00005902, 50.0034929 , 49.99940498, 50.00226858, 50.00222606,\n",
       "       50.00235723, 50.0017767 , 50.00124296, 50.00115264, 49.99792297,\n",
       "       50.00118226, 49.99758362, 50.000335  , 50.00093005, 50.00218922,\n",
       "       49.99470111, 50.00033323, 50.00178773, 50.00231704, 49.99846349,\n",
       "       49.99924526, 50.00035861, 49.99960048, 49.9978591 , 49.99607966,\n",
       "       50.00187388, 50.0005397 , 50.00343601, 49.99936758, 50.00078551,\n",
       "       50.00272148, 50.00172071, 50.00091224, 49.99922282, 50.00280962,\n",
       "       50.00552708, 50.00094348, 50.00137848, 49.99742799, 50.00210673,\n",
       "       50.00051924, 50.00246031, 50.00087044, 49.997142  , 49.99549539,\n",
       "       50.00121835, 49.99732178, 49.99991373, 50.00200596, 50.00098347,\n",
       "       49.99316282, 49.99979401, 49.99825661, 49.99913665, 50.00189303,\n",
       "       50.0005712 , 49.99896611, 50.00206945, 50.00075106, 50.00137002])"
      ]
     },
     "execution_count": 30,
     "metadata": {},
     "output_type": "execute_result"
    }
   ],
   "source": [
    "body_h"
   ]
  },
  {
   "cell_type": "code",
   "execution_count": 3,
   "metadata": {},
   "outputs": [],
   "source": [
    "item_data = {}\n",
    "equipment_data = {}\n",
    "\n",
    "def process():\n",
    "    pass"
   ]
  },
  {
   "cell_type": "code",
   "execution_count": 21,
   "metadata": {},
   "outputs": [],
   "source": [
    "def op10_equipment_data():\n",
    "    op10_electricity = np.random.uniform(89, 100, 100)"
   ]
  },
  {
   "cell_type": "code",
   "execution_count": null,
   "metadata": {},
   "outputs": [],
   "source": [
    "def op10():\n",
    "    item = []\n",
    "    \n",
    "    parts()\n",
    "    op10_equipment_data()\n",
    "    \n",
    "    for i in range(len(body_l)):\n",
    "        op10_l = body_l\n",
    "        op10_w = body_w\n",
    "        op10_h = wavyfin_h\n",
    "\n",
    "        "
   ]
  },
  {
   "cell_type": "code",
   "execution_count": null,
   "metadata": {},
   "outputs": [],
   "source": []
  }
 ],
 "metadata": {
  "kernelspec": {
   "display_name": "Python 3",
   "language": "python",
   "name": "python3"
  },
  "language_info": {
   "codemirror_mode": {
    "name": "ipython",
    "version": 3
   },
   "file_extension": ".py",
   "mimetype": "text/x-python",
   "name": "python",
   "nbconvert_exporter": "python",
   "pygments_lexer": "ipython3",
   "version": "3.6.8"
  }
 },
 "nbformat": 4,
 "nbformat_minor": 2
}
