{
 "cells": [
  {
   "cell_type": "markdown",
   "metadata": {},
   "source": [
    "# 공정 데이터 생성"
   ]
  },
  {
   "cell_type": "code",
   "execution_count": 7,
   "metadata": {},
   "outputs": [],
   "source": [
    "import numpy as np"
   ]
  },
  {
   "cell_type": "code",
   "execution_count": 73,
   "metadata": {},
   "outputs": [],
   "source": [
    "def parts():\n",
    "    std = 0.0025\n",
    "    amount = 100\n",
    "\n",
    "    body_l = np.random.normal(200,std, amount)\n",
    "    body_w = np.random.normal(100,std, amount)\n",
    "    body_h = np.random.normal(50,std, amount)\n",
    "\n",
    "    wavyfin_l = np.random.normal(100,std, amount)\n",
    "    wavyfin_w = np.random.normal(50,std, amount)\n",
    "    wavyfin_h = np.random.normal(60,std, amount)\n",
    "\n",
    "    pipe1_l = np.random.normal(30,std, amount)\n",
    "    pipe1_w = np.random.normal(50,std, amount)\n",
    "    pipe1_h = np.random.normal(30,std, amount)\n",
    "\n",
    "    pipe2_l = np.random.normal(30,std, amount)\n",
    "    pipe2_w = np.random.normal(50,std, amount)\n",
    "    pipe2_h = np.random.normal(30,std, amount)\n",
    "\n",
    "    flange1_l = np.random.normal(30,std, amount)\n",
    "    flange1_w = np.random.normal(80,std, amount)\n",
    "    flange1_h = np.random.normal(40,std, amount)\n",
    "\n",
    "    flange2_l = np.random.normal(30,std, amount)\n",
    "    flange2_w = np.random.normal(80,std, amount)\n",
    "    flange2_h = np.random.normal(40,std, amount)\n",
    "    \n",
    "    #return body_l, body_w, body_h, wavyfin_l, wavyfin_w, wavyfin_h, pipe1_l, pipe1_w, pipe1_h, pipe2_l, pipe2_w, pipe2_h, flange1_l, flange1_w, flange1_h, flange2_l, flange2_w, flange2_h\n"
   ]
  },
  {
   "cell_type": "code",
   "execution_count": 74,
   "metadata": {},
   "outputs": [],
   "source": [
    "parts()"
   ]
  },
  {
   "cell_type": "code",
   "execution_count": 43,
   "metadata": {},
   "outputs": [],
   "source": [
    "item_data = {}\n",
    "equipment_data = {}\n",
    "\n",
    "def process():\n",
    "    pass"
   ]
  },
  {
   "cell_type": "code",
   "execution_count": 44,
   "metadata": {},
   "outputs": [],
   "source": [
    "def op10_equipment_data():\n",
    "    op10_electricity = np.random.uniform(89, 100, 100)"
   ]
  },
  {
   "cell_type": "code",
   "execution_count": 100,
   "metadata": {},
   "outputs": [],
   "source": [
    "def op10():\n",
    "    item_data = []\n",
    "    item = {}\n",
    "    \n",
    "    std = 0.0025\n",
    "    amount = 10\n",
    "    body_l = np.random.normal(200,std, amount)\n",
    "    body_l = body_l.round(5)\n",
    "    body_w = np.random.normal(100,std, amount)\n",
    "    body_w = body_w.round(5)\n",
    "    body_h = np.random.normal(50,std, amount)\n",
    "    body_h = body_h.round(5)\n",
    "    \n",
    "    wavyfin_l = np.random.normal(100,std, amount)\n",
    "    wavyfin_l = wavyfin_l.round(5)\n",
    "    wavyfin_w = np.random.normal(50,std, amount)\n",
    "    wavyfin_w = wavyfin_w.round(5)\n",
    "    wavyfin_h = np.random.normal(60,std, amount)\n",
    "    wavyfin_h = wavyfin_h.round(5)\n",
    "    \n",
    "    for i in range(1, amount):\n",
    "        item['item_key'] = i\n",
    "        item['body_l'] = body_l[i]\n",
    "        item['body_w'] = body_w[i]\n",
    "        item['body_h'] = body_h[i]\n",
    "        \n",
    "        item['wavyfin_l'] = wavyfin_l[i]\n",
    "        item['wavyfin_w'] = wavyfin_w[i]\n",
    "        item['wavyfin_h'] = wavyfin_h[i]\n",
    "        \n",
    "        item['op10_l'] = body_l[i]\n",
    "        item['op10_w'] = body_w[i]\n",
    "        item['op10_h'] = wavyfin_h[i]\n",
    "        \n",
    "        #item_data[i] = item\n",
    "        \n",
    "        print(item)"
   ]
  },
  {
   "cell_type": "code",
   "execution_count": 101,
   "metadata": {},
   "outputs": [
    {
     "name": "stdout",
     "output_type": "stream",
     "text": [
      "{'item_key': 1, 'body_l': 199.9978, 'body_w': 100.00152, 'body_h': 49.99832, 'wavyfin_l': 99.99745, 'wavyfin_w': 50.00232, 'wavyfin_h': 59.99921, 'op10_l': 199.9978, 'op10_w': 100.00152, 'op10_h': 59.99921}\n",
      "{'item_key': 2, 'body_l': 199.99948, 'body_w': 100.00314, 'body_h': 50.00016, 'wavyfin_l': 100.00249, 'wavyfin_w': 49.99952, 'wavyfin_h': 60.00275, 'op10_l': 199.99948, 'op10_w': 100.00314, 'op10_h': 60.00275}\n",
      "{'item_key': 3, 'body_l': 199.99995, 'body_w': 99.99987, 'body_h': 50.0011, 'wavyfin_l': 99.99742, 'wavyfin_w': 49.9986, 'wavyfin_h': 59.99998, 'op10_l': 199.99995, 'op10_w': 99.99987, 'op10_h': 59.99998}\n",
      "{'item_key': 4, 'body_l': 200.00293, 'body_w': 99.99455, 'body_h': 49.99735, 'wavyfin_l': 100.0037, 'wavyfin_w': 49.99803, 'wavyfin_h': 60.00002, 'op10_l': 200.00293, 'op10_w': 99.99455, 'op10_h': 60.00002}\n",
      "{'item_key': 5, 'body_l': 199.99874, 'body_w': 100.00403, 'body_h': 49.99952, 'wavyfin_l': 100.0011, 'wavyfin_w': 50.00067, 'wavyfin_h': 59.99875, 'op10_l': 199.99874, 'op10_w': 100.00403, 'op10_h': 59.99875}\n",
      "{'item_key': 6, 'body_l': 200.00227, 'body_w': 99.99923, 'body_h': 49.99637, 'wavyfin_l': 100.00021, 'wavyfin_w': 49.99753, 'wavyfin_h': 60.00292, 'op10_l': 200.00227, 'op10_w': 99.99923, 'op10_h': 60.00292}\n",
      "{'item_key': 7, 'body_l': 200.00003, 'body_w': 100.0024, 'body_h': 49.99917, 'wavyfin_l': 99.9992, 'wavyfin_w': 50.00048, 'wavyfin_h': 60.00012, 'op10_l': 200.00003, 'op10_w': 100.0024, 'op10_h': 60.00012}\n",
      "{'item_key': 8, 'body_l': 199.99901, 'body_w': 100.00213, 'body_h': 49.99946, 'wavyfin_l': 100.00053, 'wavyfin_w': 49.99826, 'wavyfin_h': 60.00268, 'op10_l': 199.99901, 'op10_w': 100.00213, 'op10_h': 60.00268}\n",
      "{'item_key': 9, 'body_l': 200.00038, 'body_w': 100.0019, 'body_h': 49.9975, 'wavyfin_l': 100.00342, 'wavyfin_w': 50.00233, 'wavyfin_h': 59.99803, 'op10_l': 200.00038, 'op10_w': 100.0019, 'op10_h': 59.99803}\n"
     ]
    }
   ],
   "source": [
    "op10()"
   ]
  },
  {
   "cell_type": "code",
   "execution_count": null,
   "metadata": {},
   "outputs": [],
   "source": []
  }
 ],
 "metadata": {
  "kernelspec": {
   "display_name": "Python 3",
   "language": "python",
   "name": "python3"
  },
  "language_info": {
   "codemirror_mode": {
    "name": "ipython",
    "version": 3
   },
   "file_extension": ".py",
   "mimetype": "text/x-python",
   "name": "python",
   "nbconvert_exporter": "python",
   "pygments_lexer": "ipython3",
   "version": "3.6.8"
  }
 },
 "nbformat": 4,
 "nbformat_minor": 2
}
